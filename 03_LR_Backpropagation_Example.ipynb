{
 "cells": [
  {
   "cell_type": "markdown",
   "id": "06f986b8-cd36-426c-8ace-d682dd496c14",
   "metadata": {},
   "source": [
    "### Steps"
   ]
  },
  {
   "cell_type": "markdown",
   "id": "59b3f5f3-f9dc-4882-b159-67e6441f4881",
   "metadata": {},
   "source": [
    "# 1) Forward pass: Compute Loss"
   ]
  },
  {
   "cell_type": "markdown",
   "id": "63a34cbf-7097-4230-953f-d1efc5ee3e11",
   "metadata": {},
   "source": [
    "# 2) Compute local gradients"
   ]
  },
  {
   "cell_type": "markdown",
   "id": "a3689ea2-d182-4934-952b-629e8df55dcf",
   "metadata": {},
   "source": [
    "<img src=\"images/local_gradients.png\" width=\"500\">"
   ]
  },
  {
   "cell_type": "markdown",
   "id": "5774029e-e656-4f7c-86c8-6e2a031b78f3",
   "metadata": {},
   "source": [
    "# 3) Backward pass: Compute dloss/dweights using chain rule"
   ]
  },
  {
   "cell_type": "markdown",
   "id": "6421c523-5078-48cd-94c6-ba250a1b28ac",
   "metadata": {},
   "source": [
    "<img src=\"images/computational_graph.png\" width=\"500\">"
   ]
  },
  {
   "cell_type": "markdown",
   "id": "a3548309-cf12-48dd-81ba-7bea0051ac59",
   "metadata": {},
   "source": [
    "## Linear Regresion Backpropagation Example"
   ]
  },
  {
   "cell_type": "code",
   "execution_count": 1,
   "id": "097d7502-9325-49fd-8ee3-79f74d51b96f",
   "metadata": {},
   "outputs": [],
   "source": [
    "import torch"
   ]
  },
  {
   "cell_type": "code",
   "execution_count": 2,
   "id": "7749fc84-cbcb-4f98-981a-cb78c945c325",
   "metadata": {},
   "outputs": [],
   "source": [
    "x = torch.tensor(1.0)"
   ]
  },
  {
   "cell_type": "code",
   "execution_count": 3,
   "id": "de4d5ec1-04b7-4fd9-82af-c6e53267b0e8",
   "metadata": {},
   "outputs": [],
   "source": [
    "y = torch.tensor(2.0)"
   ]
  },
  {
   "cell_type": "code",
   "execution_count": 4,
   "id": "4bd569a0-f90d-4ec2-8ade-2462c96bd75f",
   "metadata": {},
   "outputs": [],
   "source": [
    "w = torch.tensor(1.0, requires_grad=True)"
   ]
  },
  {
   "cell_type": "markdown",
   "id": "52cc4f8e-786f-4d19-9008-26249b8734a2",
   "metadata": {},
   "source": [
    "### Forward pass"
   ]
  },
  {
   "cell_type": "code",
   "execution_count": 5,
   "id": "2f711ac1-74c6-4993-a3b6-51ce26c8cbc1",
   "metadata": {},
   "outputs": [],
   "source": [
    "y_hat = w * x"
   ]
  },
  {
   "cell_type": "code",
   "execution_count": 6,
   "id": "3e43f480-82ee-4a11-b9a6-dd54b8007219",
   "metadata": {},
   "outputs": [
    {
     "name": "stdout",
     "output_type": "stream",
     "text": [
      "tensor(1., grad_fn=<PowBackward0>)\n"
     ]
    }
   ],
   "source": [
    "loss = (y_hat - y)**2\n",
    "print(loss)"
   ]
  },
  {
   "cell_type": "markdown",
   "id": "8158b669-304b-4ecd-a515-eb3f8a933074",
   "metadata": {},
   "source": [
    "### Backward pass"
   ]
  },
  {
   "cell_type": "code",
   "execution_count": 7,
   "id": "3d566eb0-6414-4e73-bfe6-865790b00012",
   "metadata": {},
   "outputs": [],
   "source": [
    "loss.backward()"
   ]
  },
  {
   "cell_type": "code",
   "execution_count": 8,
   "id": "e3ac9d27-47e6-4da9-91b2-a9b78a9d0c82",
   "metadata": {},
   "outputs": [
    {
     "name": "stdout",
     "output_type": "stream",
     "text": [
      "tensor(-2.)\n"
     ]
    }
   ],
   "source": [
    "print(w.grad)"
   ]
  }
 ],
 "metadata": {
  "kernelspec": {
   "display_name": "venv",
   "language": "python",
   "name": "venv"
  },
  "language_info": {
   "codemirror_mode": {
    "name": "ipython",
    "version": 3
   },
   "file_extension": ".py",
   "mimetype": "text/x-python",
   "name": "python",
   "nbconvert_exporter": "python",
   "pygments_lexer": "ipython3",
   "version": "3.10.12"
  }
 },
 "nbformat": 4,
 "nbformat_minor": 5
}
