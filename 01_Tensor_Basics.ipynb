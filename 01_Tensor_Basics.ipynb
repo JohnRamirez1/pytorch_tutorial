{
 "cells": [
  {
   "cell_type": "code",
   "execution_count": 96,
   "id": "8bbd2814-30c4-4c69-9e10-939baa652243",
   "metadata": {},
   "outputs": [],
   "source": [
    "import torch\n",
    "import numpy as np"
   ]
  },
  {
   "cell_type": "markdown",
   "id": "ec55477b-9117-43a6-942a-8dc91b2d6b31",
   "metadata": {},
   "source": [
    "## Create Tensor"
   ]
  },
  {
   "cell_type": "code",
   "execution_count": 7,
   "id": "fde6ea44-ee2f-4672-b50f-682f7a5a383d",
   "metadata": {},
   "outputs": [
    {
     "name": "stdout",
     "output_type": "stream",
     "text": [
      "tensor([[[[9.3663e+03, 3.0946e-41, 9.4642e+03],\n",
      "          [3.0946e-41, 1.1210e-43, 0.0000e+00]],\n",
      "\n",
      "         [[8.9683e-44, 0.0000e+00, 2.9033e-18],\n",
      "          [3.0942e-41, 2.3592e-09, 2.0566e+20]]],\n",
      "\n",
      "\n",
      "        [[[1.0413e-11, 2.6608e+23, 4.1912e+21],\n",
      "          [3.3975e+21, 4.1292e-05, 2.1782e-04]],\n",
      "\n",
      "         [[2.6539e+20, 2.4965e-18, 3.1360e+27],\n",
      "          [7.0800e+31, 1.5835e-43, 0.0000e+00]]]])\n"
     ]
    }
   ],
   "source": [
    "#create empty tensor\n",
    "x = torch.empty(2,2,2,3)\n",
    "print(x)"
   ]
  },
  {
   "cell_type": "code",
   "execution_count": 8,
   "id": "4fa8337c-d4a7-4e84-af84-bd1e43b8844e",
   "metadata": {},
   "outputs": [
    {
     "name": "stdout",
     "output_type": "stream",
     "text": [
      "tensor([[0.0104, 0.8802, 0.4678],\n",
      "        [0.2174, 0.7571, 0.9059]])\n"
     ]
    }
   ],
   "source": [
    "#create random tensor\n",
    "x = torch.rand(2,3)\n",
    "print(x)"
   ]
  },
  {
   "cell_type": "code",
   "execution_count": 10,
   "id": "d32ed024-2370-46d8-9dba-c7e06a52e9f9",
   "metadata": {},
   "outputs": [
    {
     "name": "stdout",
     "output_type": "stream",
     "text": [
      "tensor([[0., 0., 0.],\n",
      "        [0., 0., 0.]])\n"
     ]
    }
   ],
   "source": [
    "#create zeros tensor\n",
    "x = torch.zeros(2,3)\n",
    "print(x)"
   ]
  },
  {
   "cell_type": "code",
   "execution_count": 12,
   "id": "b05aaf98-f0bd-48c2-9717-0632d3b62f83",
   "metadata": {},
   "outputs": [
    {
     "name": "stdout",
     "output_type": "stream",
     "text": [
      "tensor([[1., 1., 1.],\n",
      "        [1., 1., 1.]])\n"
     ]
    }
   ],
   "source": [
    "#create ones tensor\n",
    "x = torch.ones(2,3)\n",
    "print(x)"
   ]
  },
  {
   "cell_type": "markdown",
   "id": "c922eb2b-1461-4fb1-916d-8846304b26db",
   "metadata": {},
   "source": [
    "### Format Tensor"
   ]
  },
  {
   "cell_type": "code",
   "execution_count": 15,
   "id": "54150936-4354-4c5f-98e5-d05c11d5a23d",
   "metadata": {},
   "outputs": [
    {
     "name": "stdout",
     "output_type": "stream",
     "text": [
      "torch.Size([2, 3])\n",
      "tensor([[1., 1., 1.],\n",
      "        [1., 1., 1.]], dtype=torch.float16)\n"
     ]
    }
   ],
   "source": [
    "#create ones tensor type float16\n",
    "x = torch.ones(2,3, dtype=torch.float16)\n",
    "print(x.size())\n",
    "print(x)"
   ]
  },
  {
   "cell_type": "markdown",
   "id": "ca79108d-e949-47ba-af42-3dc134730cf4",
   "metadata": {},
   "source": [
    "### Tensor from List"
   ]
  },
  {
   "cell_type": "code",
   "execution_count": 18,
   "id": "06159194-2bf7-45db-80d3-b9c7f03456d8",
   "metadata": {},
   "outputs": [
    {
     "name": "stdout",
     "output_type": "stream",
     "text": [
      "tensor([2.5000, 0.5000, 1.0000, 6.0000])\n"
     ]
    }
   ],
   "source": [
    "#create tensor from list\n",
    "x = torch.tensor([2.5, 0.5, 1,6])\n",
    "print(x)"
   ]
  },
  {
   "cell_type": "markdown",
   "id": "fc16c6c4-f79e-4a0f-84c2-4fb2623187e0",
   "metadata": {},
   "source": [
    "## Tensor Operations"
   ]
  },
  {
   "cell_type": "code",
   "execution_count": 65,
   "id": "067f40da-807c-45b5-93e4-2f237912013b",
   "metadata": {},
   "outputs": [
    {
     "name": "stdout",
     "output_type": "stream",
     "text": [
      "tensor([[0.2133, 0.1317],\n",
      "        [0.7288, 0.7559]])\n",
      "tensor([[0.3950, 0.2580],\n",
      "        [0.2051, 0.1123]])\n"
     ]
    }
   ],
   "source": [
    "x = torch.rand(2,2)\n",
    "y = torch.rand(2,2)\n",
    "print(x)\n",
    "print(y)"
   ]
  },
  {
   "cell_type": "markdown",
   "id": "4c0589a2-0578-4d3e-a11a-e228a478e7c9",
   "metadata": {
    "jp-MarkdownHeadingCollapsed": true
   },
   "source": [
    "### Basic Operation"
   ]
  },
  {
   "cell_type": "markdown",
   "id": "570df3ad-928e-44fc-9b0e-366b80003416",
   "metadata": {
    "jp-MarkdownHeadingCollapsed": true
   },
   "source": [
    "#### Addition"
   ]
  },
  {
   "cell_type": "code",
   "execution_count": 21,
   "id": "15f52ff0-fe8c-4104-9a4c-73349e048771",
   "metadata": {},
   "outputs": [
    {
     "name": "stdout",
     "output_type": "stream",
     "text": [
      "tensor([[0.2062, 1.1467],\n",
      "        [0.7921, 0.8485]])\n"
     ]
    }
   ],
   "source": [
    "z=x+y\n",
    "print(z)"
   ]
  },
  {
   "cell_type": "code",
   "execution_count": 23,
   "id": "05e62b9e-73cd-4257-a26b-32effa29cb9f",
   "metadata": {},
   "outputs": [
    {
     "name": "stdout",
     "output_type": "stream",
     "text": [
      "tensor([[0.2062, 1.1467],\n",
      "        [0.7921, 0.8485]])\n"
     ]
    }
   ],
   "source": [
    "z=torch.add(x,y)\n",
    "print(z)"
   ]
  },
  {
   "cell_type": "code",
   "execution_count": 25,
   "id": "756f2f05-759b-44e9-8636-3dba20990663",
   "metadata": {},
   "outputs": [
    {
     "name": "stdout",
     "output_type": "stream",
     "text": [
      "tensor([[0.2062, 1.1467],\n",
      "        [0.7921, 0.8485]])\n"
     ]
    }
   ],
   "source": [
    "#inplace operation\n",
    "y.add_(x)\n",
    "print(y)"
   ]
  },
  {
   "cell_type": "markdown",
   "id": "b4558175-0370-4771-95bf-75df5b2b6229",
   "metadata": {
    "jp-MarkdownHeadingCollapsed": true
   },
   "source": [
    "#### Substraction"
   ]
  },
  {
   "cell_type": "code",
   "execution_count": 43,
   "id": "07414369-d324-440c-a002-c324de6b6a46",
   "metadata": {},
   "outputs": [
    {
     "name": "stdout",
     "output_type": "stream",
     "text": [
      "tensor([[-0.8970,  0.3422],\n",
      "        [ 0.4633, -0.0871]])\n"
     ]
    }
   ],
   "source": [
    "z=x-y\n",
    "print(z)"
   ]
  },
  {
   "cell_type": "code",
   "execution_count": 44,
   "id": "4c3ef5fe-4030-4c24-b4e7-7397ad8eab09",
   "metadata": {},
   "outputs": [
    {
     "name": "stdout",
     "output_type": "stream",
     "text": [
      "tensor([[-0.8970,  0.3422],\n",
      "        [ 0.4633, -0.0871]])\n"
     ]
    }
   ],
   "source": [
    "z=torch.sub(x,y)\n",
    "print(z)"
   ]
  },
  {
   "cell_type": "code",
   "execution_count": 45,
   "id": "ad196dc9-5050-4f51-bd61-ee305c925a8f",
   "metadata": {},
   "outputs": [
    {
     "name": "stdout",
     "output_type": "stream",
     "text": [
      "tensor([[ 0.8970, -0.3422],\n",
      "        [-0.4633,  0.0871]])\n"
     ]
    }
   ],
   "source": [
    "#inplace operation\n",
    "y.sub_(x)\n",
    "print(y)"
   ]
  },
  {
   "cell_type": "markdown",
   "id": "fd1904cd-dc2d-4573-8257-b36a89616397",
   "metadata": {
    "jp-MarkdownHeadingCollapsed": true
   },
   "source": [
    "#### Multiplication"
   ]
  },
  {
   "cell_type": "code",
   "execution_count": 48,
   "id": "8a4e97d6-27a7-4064-8e79-ff9138a94255",
   "metadata": {},
   "outputs": [
    {
     "name": "stdout",
     "output_type": "stream",
     "text": [
      "tensor([[ 0.0603, -0.1224],\n",
      "        [-0.4117,  0.0748]])\n"
     ]
    }
   ],
   "source": [
    "z=x*y\n",
    "print(z)"
   ]
  },
  {
   "cell_type": "code",
   "execution_count": 49,
   "id": "43523904-e03e-459a-944a-289a045fa9c4",
   "metadata": {},
   "outputs": [
    {
     "name": "stdout",
     "output_type": "stream",
     "text": [
      "tensor([[ 0.0603, -0.1224],\n",
      "        [-0.4117,  0.0748]])\n"
     ]
    }
   ],
   "source": [
    "z=torch.mul(x,y)\n",
    "print(z)"
   ]
  },
  {
   "cell_type": "code",
   "execution_count": null,
   "id": "c12a3afe-2a89-4b8e-82c7-3b5944238ac3",
   "metadata": {},
   "outputs": [],
   "source": [
    "#inplace operation\n",
    "y.mul_(x)\n",
    "print(y)"
   ]
  },
  {
   "cell_type": "markdown",
   "id": "ece92e8f-00d0-4764-98cd-92a40dcaddf6",
   "metadata": {
    "jp-MarkdownHeadingCollapsed": true
   },
   "source": [
    "#### Division"
   ]
  },
  {
   "cell_type": "code",
   "execution_count": 66,
   "id": "86e643cf-2f5d-4906-acc4-b726e291d102",
   "metadata": {},
   "outputs": [
    {
     "name": "stdout",
     "output_type": "stream",
     "text": [
      "tensor([[0.5400, 0.5103],\n",
      "        [3.5526, 6.7318]])\n"
     ]
    }
   ],
   "source": [
    "z=x/y\n",
    "print(z)"
   ]
  },
  {
   "cell_type": "code",
   "execution_count": 67,
   "id": "61a087d6-2ead-471b-b0c2-68db8b0b698a",
   "metadata": {},
   "outputs": [
    {
     "name": "stdout",
     "output_type": "stream",
     "text": [
      "tensor([[0.5400, 0.5103],\n",
      "        [3.5526, 6.7318]])\n"
     ]
    }
   ],
   "source": [
    "z=torch.div(x,y)\n",
    "print(z)"
   ]
  },
  {
   "cell_type": "code",
   "execution_count": 68,
   "id": "914eb7d5-8976-4495-8d7c-94b79e69dc18",
   "metadata": {},
   "outputs": [
    {
     "name": "stdout",
     "output_type": "stream",
     "text": [
      "tensor([[0.5400, 0.5103],\n",
      "        [3.5526, 6.7318]])\n"
     ]
    }
   ],
   "source": [
    "#inplace operation\n",
    "x.div_(y)\n",
    "print(x)"
   ]
  },
  {
   "cell_type": "markdown",
   "id": "e027c189-ec97-4860-a5af-055041cdc702",
   "metadata": {
    "jp-MarkdownHeadingCollapsed": true
   },
   "source": [
    "### Slicing Operations"
   ]
  },
  {
   "cell_type": "code",
   "execution_count": 71,
   "id": "1b840a93-5d6b-46c2-a853-9255e641f958",
   "metadata": {},
   "outputs": [
    {
     "name": "stdout",
     "output_type": "stream",
     "text": [
      "tensor([[0.7935, 0.6249, 0.1172],\n",
      "        [0.7466, 0.6820, 0.0960],\n",
      "        [0.6641, 0.5674, 0.5701],\n",
      "        [0.9879, 0.9817, 0.4279],\n",
      "        [0.8838, 0.0663, 0.4582]])\n"
     ]
    }
   ],
   "source": [
    "# Create tensor of size 5 rows and 3 columns\n",
    "x = torch.rand(5,3)\n",
    "print(x)"
   ]
  },
  {
   "cell_type": "code",
   "execution_count": 72,
   "id": "66de402e-c3f2-40d3-a96b-f5ded94c7069",
   "metadata": {},
   "outputs": [
    {
     "name": "stdout",
     "output_type": "stream",
     "text": [
      "tensor([0.7935, 0.7466, 0.6641, 0.9879, 0.8838])\n"
     ]
    }
   ],
   "source": [
    "#print all the rows for column 0 \n",
    "print(x[:,0])"
   ]
  },
  {
   "cell_type": "code",
   "execution_count": 73,
   "id": "214126ba-1013-4535-96a3-465d98a64233",
   "metadata": {},
   "outputs": [
    {
     "name": "stdout",
     "output_type": "stream",
     "text": [
      "tensor([0.7466, 0.6820, 0.0960])\n"
     ]
    }
   ],
   "source": [
    "#print rows 1 and all the columns \n",
    "print(x[1,:])"
   ]
  },
  {
   "cell_type": "code",
   "execution_count": 76,
   "id": "54da97a4-6ffa-4128-88fe-dc45d4f85b13",
   "metadata": {},
   "outputs": [
    {
     "name": "stdout",
     "output_type": "stream",
     "text": [
      "0.6819540858268738\n"
     ]
    }
   ],
   "source": [
    "#print rows 1 and columns 1 and get item\n",
    "print(x[1,1].item())"
   ]
  },
  {
   "cell_type": "markdown",
   "id": "83d211af-1c07-463e-997a-21b37f84722d",
   "metadata": {
    "jp-MarkdownHeadingCollapsed": true
   },
   "source": [
    "### Reshape tensor"
   ]
  },
  {
   "cell_type": "code",
   "execution_count": 77,
   "id": "f31744eb-f89f-479f-8ef0-9bf18c75537d",
   "metadata": {},
   "outputs": [
    {
     "name": "stdout",
     "output_type": "stream",
     "text": [
      "tensor([[0.4494, 0.9517, 0.9207, 0.3164],\n",
      "        [0.0796, 0.0120, 0.0408, 0.6348],\n",
      "        [0.1070, 0.9884, 0.1501, 0.5489],\n",
      "        [0.2524, 0.5345, 0.9216, 0.4694]])\n"
     ]
    }
   ],
   "source": [
    "x = torch.rand(4,4)\n",
    "print(x)"
   ]
  },
  {
   "cell_type": "code",
   "execution_count": 78,
   "id": "f0a817ff-9d4d-4aa5-b16d-b8a441be8449",
   "metadata": {},
   "outputs": [
    {
     "name": "stdout",
     "output_type": "stream",
     "text": [
      "tensor([0.4494, 0.9517, 0.9207, 0.3164, 0.0796, 0.0120, 0.0408, 0.6348, 0.1070,\n",
      "        0.9884, 0.1501, 0.5489, 0.2524, 0.5345, 0.9216, 0.4694])\n"
     ]
    }
   ],
   "source": [
    "y = x.view(16)\n",
    "print(y)"
   ]
  },
  {
   "cell_type": "code",
   "execution_count": 80,
   "id": "015ba33c-ec4e-4693-86d9-9b18e101b3cb",
   "metadata": {},
   "outputs": [
    {
     "name": "stdout",
     "output_type": "stream",
     "text": [
      "torch.Size([2, 8])\n"
     ]
    }
   ],
   "source": [
    "# reshape when i want to specify one dimention pytorch estimate the other dimention\n",
    "y = x.view(-1,8)\n",
    "print(y.size())"
   ]
  },
  {
   "cell_type": "markdown",
   "id": "6a00f069-39fd-4817-ab5f-a4e95a3ad9f1",
   "metadata": {},
   "source": [
    "### Convert from numpy to tensor and viceversa"
   ]
  },
  {
   "cell_type": "code",
   "execution_count": 91,
   "id": "8015cd84-71c9-40e4-9e55-1b9b98404ff7",
   "metadata": {},
   "outputs": [
    {
     "name": "stdout",
     "output_type": "stream",
     "text": [
      "tensor([1., 1., 1., 1., 1.])\n",
      "<class 'numpy.ndarray'>\n",
      "[1. 1. 1. 1. 1.]\n"
     ]
    }
   ],
   "source": [
    "a = torch.ones(5)\n",
    "print(a)\n",
    "# from tensor to numpy array\n",
    "b = a.numpy()\n",
    "print(type(b))\n",
    "print(b)"
   ]
  },
  {
   "cell_type": "code",
   "execution_count": 94,
   "id": "f9d613e1-7589-467f-8c20-ddc3ae116513",
   "metadata": {},
   "outputs": [
    {
     "name": "stdout",
     "output_type": "stream",
     "text": [
      "tensor([4., 4., 4., 4., 4.])\n",
      "[4. 4. 4. 4. 4.]\n"
     ]
    }
   ],
   "source": [
    "# Careful!\n",
    "# if both a and b are in the same device, \n",
    "# both objects will share the same memory location\n",
    "# both objects will be modified\n",
    "a.add_(1)\n",
    "print(a)\n",
    "print(b)"
   ]
  },
  {
   "cell_type": "code",
   "execution_count": 97,
   "id": "8be3b0f1-142a-49e0-a431-9654cd4d7de0",
   "metadata": {},
   "outputs": [
    {
     "name": "stdout",
     "output_type": "stream",
     "text": [
      "[1. 1. 1. 1. 1.]\n",
      "<class 'torch.Tensor'>\n",
      "tensor([1., 1., 1., 1., 1.], dtype=torch.float64)\n"
     ]
    }
   ],
   "source": [
    "a = np.ones(5)\n",
    "print(a)\n",
    "# from numpy to tensor\n",
    "b = torch.from_numpy(a)\n",
    "print(type(b))\n",
    "print(b)"
   ]
  },
  {
   "cell_type": "code",
   "execution_count": 101,
   "id": "62dd7ba3-e4fb-44ae-86f9-714486c9f2b8",
   "metadata": {},
   "outputs": [
    {
     "name": "stdout",
     "output_type": "stream",
     "text": [
      "[3. 3. 3. 3. 3.]\n",
      "tensor([3., 3., 3., 3., 3.], dtype=torch.float64)\n"
     ]
    }
   ],
   "source": [
    "# Careful!\n",
    "# if both a and b are in the GPU, \n",
    "# both objects will share the same memory location\n",
    "# both objects will be modified\n",
    "a+=1\n",
    "print(a)\n",
    "print(b)"
   ]
  },
  {
   "cell_type": "markdown",
   "id": "491fbd18-4af6-44ce-a4a4-0209fe316d36",
   "metadata": {},
   "source": [
    "### Move objects from cpu to gpu and viceversa"
   ]
  },
  {
   "cell_type": "code",
   "execution_count": 104,
   "id": "7d43e511-3207-4b48-8829-d5104f787b6c",
   "metadata": {},
   "outputs": [
    {
     "name": "stdout",
     "output_type": "stream",
     "text": [
      "tensor([1., 1., 1., 1., 1.], device='cuda:0')\n",
      "tensor([1., 1., 1., 1., 1.], device='cuda:0')\n",
      "tensor([2., 2., 2., 2., 2.])\n"
     ]
    }
   ],
   "source": [
    "\n",
    "if torch.cuda.is_available():\n",
    "    device = torch.device('cuda')\n",
    "    # create tensor on gpu\n",
    "    x = torch.ones(5, device=device)\n",
    "    # create tensor on cpu and then move to gpu\n",
    "    y = torch.ones(5)\n",
    "    y = y.to(device)\n",
    "    # make the operation on gpu\n",
    "    z = x + y\n",
    "    # z.numpy() # produce and error because numpy can only handle cpu tensor  \n",
    "    # move back to cpu\n",
    "    z = z.to('cpu')\n",
    "\n",
    "print(x)\n",
    "print(y)\n",
    "print(z)"
   ]
  },
  {
   "cell_type": "markdown",
   "id": "5d7cf489-b3cd-4364-a4d4-c75ace01dbb7",
   "metadata": {},
   "source": [
    "### Requires grads"
   ]
  },
  {
   "cell_type": "code",
   "execution_count": 107,
   "id": "60ee70f2-a79d-4090-b8d2-4bc61fd424b6",
   "metadata": {},
   "outputs": [
    {
     "name": "stdout",
     "output_type": "stream",
     "text": [
      "tensor([1., 1., 1., 1., 1.], requires_grad=True)\n"
     ]
    }
   ],
   "source": [
    "# requires_grad say that it will be optimized\n",
    "x = torch.ones(5, requires_grad=True)\n",
    "print(x)"
   ]
  }
 ],
 "metadata": {
  "kernelspec": {
   "display_name": "venv",
   "language": "python",
   "name": "venv"
  },
  "language_info": {
   "codemirror_mode": {
    "name": "ipython",
    "version": 3
   },
   "file_extension": ".py",
   "mimetype": "text/x-python",
   "name": "python",
   "nbconvert_exporter": "python",
   "pygments_lexer": "ipython3",
   "version": "3.10.12"
  }
 },
 "nbformat": 4,
 "nbformat_minor": 5
}
