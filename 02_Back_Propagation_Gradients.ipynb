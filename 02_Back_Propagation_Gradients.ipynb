{
 "cells": [
  {
   "cell_type": "markdown",
   "id": "855eff5f-e48c-4e59-aff7-d51fc7168639",
   "metadata": {},
   "source": [
    "## Calculate gradients"
   ]
  },
  {
   "cell_type": "code",
   "execution_count": 1,
   "id": "9898bd11-4365-4663-bb77-c8020eb3bb9c",
   "metadata": {},
   "outputs": [],
   "source": [
    "import torch"
   ]
  },
  {
   "cell_type": "markdown",
   "id": "52d10b02-6236-44c4-a398-6704196f36ed",
   "metadata": {},
   "source": [
    "## Gradient Function"
   ]
  },
  {
   "cell_type": "code",
   "execution_count": 2,
   "id": "420e7b13-d6cd-4b5a-b2d1-44ddb114c07f",
   "metadata": {},
   "outputs": [
    {
     "name": "stdout",
     "output_type": "stream",
     "text": [
      "tensor([-1.6403, -1.6034,  0.2060], requires_grad=True)\n"
     ]
    }
   ],
   "source": [
    "x = torch.randn(3,requires_grad=True)\n",
    "print(x)"
   ]
  },
  {
   "cell_type": "code",
   "execution_count": 3,
   "id": "a6319f7f-dbab-404b-8e4f-9b67d834377c",
   "metadata": {},
   "outputs": [
    {
     "data": {
      "text/plain": [
       "tensor([0.3597, 0.3966, 2.2060], grad_fn=<AddBackward0>)"
      ]
     },
     "execution_count": 3,
     "metadata": {},
     "output_type": "execute_result"
    }
   ],
   "source": [
    "#since the operation is add a number the grad_fn will be AddBackward\n",
    "y=x+2\n",
    "y"
   ]
  },
  {
   "cell_type": "code",
   "execution_count": 4,
   "id": "8b14ba83-50d3-4749-a6f2-c442a3fee7dd",
   "metadata": {},
   "outputs": [
    {
     "data": {
      "text/plain": [
       "tensor([-3.6403, -3.6034, -1.7940], grad_fn=<SubBackward0>)"
      ]
     },
     "execution_count": 4,
     "metadata": {},
     "output_type": "execute_result"
    }
   ],
   "source": [
    "#since the operation is add a number the grad_fn will be SubBackward\n",
    "y=x-2\n",
    "y"
   ]
  },
  {
   "cell_type": "code",
   "execution_count": 5,
   "id": "accb335e-a7ee-49af-9a5e-aea2250243de",
   "metadata": {},
   "outputs": [
    {
     "data": {
      "text/plain": [
       "tensor([-3.2806, -3.2067,  0.4120], grad_fn=<MulBackward0>)"
      ]
     },
     "execution_count": 5,
     "metadata": {},
     "output_type": "execute_result"
    }
   ],
   "source": [
    "#since the operation is add a number the grad_fn will be MultBackward\n",
    "y=x*2\n",
    "y"
   ]
  },
  {
   "cell_type": "code",
   "execution_count": 6,
   "id": "725bf929-a9d4-491e-8a8f-47df474bf393",
   "metadata": {},
   "outputs": [
    {
     "data": {
      "text/plain": [
       "tensor([-0.8202, -0.8017,  0.1030], grad_fn=<DivBackward0>)"
      ]
     },
     "execution_count": 6,
     "metadata": {},
     "output_type": "execute_result"
    }
   ],
   "source": [
    "#since the operation is add a number the grad_fn will be divBackward\n",
    "y=x/2\n",
    "y"
   ]
  },
  {
   "cell_type": "markdown",
   "id": "bf2e9298-572b-4973-ba9c-eeedce0d0cf8",
   "metadata": {},
   "source": [
    "## Gradient Calculation"
   ]
  },
  {
   "cell_type": "markdown",
   "id": "c87a25bc-02d6-462d-b86a-03909d87c96a",
   "metadata": {},
   "source": [
    "<img src=\"backpropagation.png\" width=\"500\">"
   ]
  },
  {
   "cell_type": "code",
   "execution_count": 7,
   "id": "8e04b2f1-d4d7-4170-a87a-4f953a7a87d2",
   "metadata": {},
   "outputs": [
    {
     "name": "stdout",
     "output_type": "stream",
     "text": [
      "tensor([ 0.3043, -0.0707,  1.7609], requires_grad=True)\n"
     ]
    }
   ],
   "source": [
    "x = torch.randn(3,requires_grad=True)\n",
    "print(x)"
   ]
  },
  {
   "cell_type": "code",
   "execution_count": 8,
   "id": "3d028d35-7c5e-4ad7-a6a1-c36ff124142d",
   "metadata": {},
   "outputs": [
    {
     "name": "stdout",
     "output_type": "stream",
     "text": [
      "y  tensor([2.3043, 1.9293, 3.7609], grad_fn=<AddBackward0>)\n",
      "tensor([10.6194,  7.4441, 28.2884], grad_fn=<MulBackward0>)\n"
     ]
    }
   ],
   "source": [
    "y=x+2\n",
    "print(\"y \",y)\n",
    "z=y*y*2\n",
    "#z=z.mean()\n",
    "print(z)"
   ]
  },
  {
   "cell_type": "code",
   "execution_count": 9,
   "id": "69f909ea-e168-453f-ba45-11d1f47d5387",
   "metadata": {},
   "outputs": [
    {
     "name": "stdout",
     "output_type": "stream",
     "text": [
      "tensor([0.9217, 7.7170, 0.0150])\n"
     ]
    }
   ],
   "source": [
    "# z is not an scalar (z.mean()) we must give the vector v\n",
    "v = torch.tensor([0.1, 1.0, 0.001], dtype=torch.float32)\n",
    "z.backward(v) #dz/dx\n",
    "print(x.grad)"
   ]
  },
  {
   "cell_type": "markdown",
   "id": "a70ef9b4-5914-48c0-92ff-2afeea3a2cde",
   "metadata": {},
   "source": [
    "**Jacobian Chain Rule**"
   ]
  },
  {
   "cell_type": "markdown",
   "id": "279583c8-9acf-4022-98da-8c7cb0bbe1fe",
   "metadata": {},
   "source": [
    "<img src=\"jacobian_matrix.png\" width=\"500\">"
   ]
  },
  {
   "cell_type": "markdown",
   "id": "3be15334-d03d-45ee-ac4e-441c36c9eb17",
   "metadata": {},
   "source": [
    "## Preventing Gradient History"
   ]
  },
  {
   "cell_type": "code",
   "execution_count": 14,
   "id": "d4078f92-e39b-483f-9721-69830115044e",
   "metadata": {},
   "outputs": [
    {
     "name": "stdout",
     "output_type": "stream",
     "text": [
      "tensor([ 0.9287,  0.8132, -0.2667])\n"
     ]
    }
   ],
   "source": [
    "# first option\n",
    "x = torch.randn(3,requires_grad=True)\n",
    "x.requires_grad_(False)\n",
    "print(x)"
   ]
  },
  {
   "cell_type": "code",
   "execution_count": 16,
   "id": "a9046934-831c-4e2c-9ebd-0184698cf0aa",
   "metadata": {},
   "outputs": [
    {
     "name": "stdout",
     "output_type": "stream",
     "text": [
      "tensor([ 0.2979, -0.1819, -0.6232], requires_grad=True)\n",
      "tensor([ 0.2979, -0.1819, -0.6232])\n"
     ]
    }
   ],
   "source": [
    "# secod option\n",
    "x = torch.randn(3,requires_grad=True)\n",
    "y = x.detach()\n",
    "print(x)\n",
    "print(y)"
   ]
  },
  {
   "cell_type": "code",
   "execution_count": 19,
   "id": "1f7f15a9-3e1a-468d-9460-f1b3423131f9",
   "metadata": {},
   "outputs": [
    {
     "name": "stdout",
     "output_type": "stream",
     "text": [
      "tensor([-0.4981,  1.9292,  0.5857], requires_grad=True)\n",
      "tensor([1.5019, 3.9292, 2.5857])\n"
     ]
    }
   ],
   "source": [
    "# third option\n",
    "with torch.no_grad():\n",
    "    x = torch.randn(3,requires_grad=True)\n",
    "    y = x + 2\n",
    "print(x)\n",
    "print(y)"
   ]
  },
  {
   "cell_type": "markdown",
   "id": "03850b3b-a3fa-4c97-ac89-d64e3d688f85",
   "metadata": {},
   "source": [
    "## Training Example"
   ]
  },
  {
   "cell_type": "code",
   "execution_count": 25,
   "id": "6a5f0b81-cff4-4935-8c3d-3d09f7c87158",
   "metadata": {},
   "outputs": [
    {
     "name": "stdout",
     "output_type": "stream",
     "text": [
      "tensor([3., 3., 3., 3.])\n",
      "tensor([3., 3., 3., 3.])\n",
      "tensor([3., 3., 3., 3.])\n"
     ]
    }
   ],
   "source": [
    "weights = torch.ones(4, requires_grad=True)\n",
    "for epoch in range(3):\n",
    "    model_output = (weights*3).sum()\n",
    "    model_output.backward()\n",
    "    print(weights.grad)\n",
    "\n",
    "    # before next optimization we must  empty the gradient\n",
    "    weights.grad.zero_()"
   ]
  },
  {
   "cell_type": "code",
   "execution_count": 29,
   "id": "602b1de8-4907-4641-ba5a-975c858e8182",
   "metadata": {},
   "outputs": [],
   "source": [
    "weights = torch.ones(4, requires_grad=True)\n",
    "\n",
    "# define Optimizer\n",
    "# optimizer = torch.optim.SGD(weights, lr=0.01)\n",
    "# optimizer.step()\n",
    "# optimizer.zero_grad()"
   ]
  }
 ],
 "metadata": {
  "kernelspec": {
   "display_name": "venv",
   "language": "python",
   "name": "venv"
  },
  "language_info": {
   "codemirror_mode": {
    "name": "ipython",
    "version": 3
   },
   "file_extension": ".py",
   "mimetype": "text/x-python",
   "name": "python",
   "nbconvert_exporter": "python",
   "pygments_lexer": "ipython3",
   "version": "3.10.12"
  }
 },
 "nbformat": 4,
 "nbformat_minor": 5
}
