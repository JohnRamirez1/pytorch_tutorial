{
 "cells": [
  {
   "cell_type": "markdown",
   "id": "491ca0bf-87c5-4bc1-bf9b-a25cfaf6e991",
   "metadata": {},
   "source": [
    "# Dataset and Dataloader Batch Training"
   ]
  },
  {
   "cell_type": "markdown",
   "id": "aa586018-1020-46c9-b432-9ebf4b51f0d6",
   "metadata": {},
   "source": [
    "* epoch = 1 forward and backward pass of ALL training samples\n",
    "* batch_size = number of training samples in one forward & backward pass (epoch)\n",
    "* number of iteration = number of passes, each pass using [batch_size] number of samples\n",
    "* e.g. 100 samples, batch_size=20 --> 100/20 = 5 iterations for 1 epoch"
   ]
  },
  {
   "cell_type": "code",
   "execution_count": 1,
   "id": "0d875273-11e1-4333-885a-77763d8ed3d7",
   "metadata": {},
   "outputs": [],
   "source": [
    "import torch\n",
    "import torchvision\n",
    "from torch.utils.data import Dataset, DataLoader\n",
    "import numpy as np\n",
    "import math"
   ]
  },
  {
   "cell_type": "code",
   "execution_count": 2,
   "id": "6f82b537-dfaa-4ea8-9701-e88768bf383c",
   "metadata": {},
   "outputs": [],
   "source": [
    "class WineDataset(Dataset):\n",
    "    def __init__(self):\n",
    "    # data loading\n",
    "        xy = np.loadtxt('data/wine.csv', delimiter=\",\", dtype = np.float32, skiprows=1)\n",
    "        self.x = torch.from_numpy(xy[:, 1:])\n",
    "        self.y = torch.from_numpy(xy[:, [0]]) #n_samples, 1\n",
    "        self.n_samples = xy.shape[0]\n",
    " \n",
    "    def __getitem__(self, index):\n",
    "        # dataset[0]\n",
    "        return self.x[index], self.y[index]\n",
    "\n",
    "    def __len__(self):\n",
    "        # len(dataset)\n",
    "        return self.n_samples"
   ]
  },
  {
   "cell_type": "markdown",
   "id": "760f9bcc-c0d4-492e-b886-d28e8b9ec687",
   "metadata": {},
   "source": [
    "## Get Dataset with index"
   ]
  },
  {
   "cell_type": "code",
   "execution_count": 16,
   "id": "2b507e26-1cb5-499e-aea3-e0afdd14fc01",
   "metadata": {},
   "outputs": [
    {
     "name": "stdout",
     "output_type": "stream",
     "text": [
      "tensor([1.4230e+01, 1.7100e+00, 2.4300e+00, 1.5600e+01, 1.2700e+02, 2.8000e+00,\n",
      "        3.0600e+00, 2.8000e-01, 2.2900e+00, 5.6400e+00, 1.0400e+00, 3.9200e+00,\n",
      "        1.0650e+03]) tensor([1.])\n"
     ]
    }
   ],
   "source": [
    "# get dataset as usual\n",
    "dataset = WineDataset()\n",
    "first_data = dataset[0]\n",
    "features, labels = first_data\n",
    "print(features, labels)"
   ]
  },
  {
   "cell_type": "markdown",
   "id": "9e37c531-13b0-4552-b9e9-4a260e582041",
   "metadata": {},
   "source": [
    "## get dataset with DataLoader"
   ]
  },
  {
   "cell_type": "code",
   "execution_count": 3,
   "id": "50f53860-a5c4-4a8d-8416-a74c543da4c1",
   "metadata": {},
   "outputs": [],
   "source": [
    "dataset = WineDataset()\n",
    "dataloader = DataLoader(dataset=dataset, batch_size=4, shuffle=True, num_workers=2)"
   ]
  },
  {
   "cell_type": "code",
   "execution_count": 8,
   "id": "54c95691-ed24-4256-b9e3-da86f279c86f",
   "metadata": {},
   "outputs": [
    {
     "name": "stdout",
     "output_type": "stream",
     "text": [
      "tensor([[1.2520e+01, 2.4300e+00, 2.1700e+00, 2.1000e+01, 8.8000e+01, 2.5500e+00,\n",
      "         2.2700e+00, 2.6000e-01, 1.2200e+00, 2.0000e+00, 9.0000e-01, 2.7800e+00,\n",
      "         3.2500e+02],\n",
      "        [1.2930e+01, 3.8000e+00, 2.6500e+00, 1.8600e+01, 1.0200e+02, 2.4100e+00,\n",
      "         2.4100e+00, 2.5000e-01, 1.9800e+00, 4.5000e+00, 1.0300e+00, 3.5200e+00,\n",
      "         7.7000e+02],\n",
      "        [1.1840e+01, 2.8900e+00, 2.2300e+00, 1.8000e+01, 1.1200e+02, 1.7200e+00,\n",
      "         1.3200e+00, 4.3000e-01, 9.5000e-01, 2.6500e+00, 9.6000e-01, 2.5200e+00,\n",
      "         5.0000e+02],\n",
      "        [1.3780e+01, 2.7600e+00, 2.3000e+00, 2.2000e+01, 9.0000e+01, 1.3500e+00,\n",
      "         6.8000e-01, 4.1000e-01, 1.0300e+00, 9.5800e+00, 7.0000e-01, 1.6800e+00,\n",
      "         6.1500e+02]]) tensor([[2.],\n",
      "        [1.],\n",
      "        [2.],\n",
      "        [3.]])\n"
     ]
    }
   ],
   "source": [
    "dataiter = iter(dataloader)\n",
    "data = next(dataiter)\n",
    "features, labels = data\n",
    "print(features, labels)"
   ]
  },
  {
   "cell_type": "markdown",
   "id": "b8347016-9dcd-426b-bedf-2a6a3d8552a3",
   "metadata": {},
   "source": [
    "### Training Loop"
   ]
  },
  {
   "cell_type": "code",
   "execution_count": 10,
   "id": "779bcf22-e244-4645-9803-c5940ce58b5c",
   "metadata": {},
   "outputs": [
    {
     "name": "stdout",
     "output_type": "stream",
     "text": [
      "178 45\n"
     ]
    }
   ],
   "source": [
    "num_epochs = 2\n",
    "total_samples = len(dataset)\n",
    "n_iterations = math.ceil(total_samples/4)\n",
    "print(total_samples, n_iterations)"
   ]
  },
  {
   "cell_type": "code",
   "execution_count": 11,
   "id": "1548e682-278a-4e60-a0ef-8589fcbad0db",
   "metadata": {},
   "outputs": [
    {
     "name": "stdout",
     "output_type": "stream",
     "text": [
      "epoch 1/2, step 5/45, inputstorch.Size([4, 13]) \n",
      "epoch 1/2, step 10/45, inputstorch.Size([4, 13]) \n",
      "epoch 1/2, step 15/45, inputstorch.Size([4, 13]) \n",
      "epoch 1/2, step 20/45, inputstorch.Size([4, 13]) \n",
      "epoch 1/2, step 25/45, inputstorch.Size([4, 13]) \n",
      "epoch 1/2, step 30/45, inputstorch.Size([4, 13]) \n",
      "epoch 1/2, step 35/45, inputstorch.Size([4, 13]) \n",
      "epoch 1/2, step 40/45, inputstorch.Size([4, 13]) \n",
      "epoch 1/2, step 45/45, inputstorch.Size([2, 13]) \n",
      "epoch 2/2, step 5/45, inputstorch.Size([4, 13]) \n",
      "epoch 2/2, step 10/45, inputstorch.Size([4, 13]) \n",
      "epoch 2/2, step 15/45, inputstorch.Size([4, 13]) \n",
      "epoch 2/2, step 20/45, inputstorch.Size([4, 13]) \n",
      "epoch 2/2, step 25/45, inputstorch.Size([4, 13]) \n",
      "epoch 2/2, step 30/45, inputstorch.Size([4, 13]) \n",
      "epoch 2/2, step 35/45, inputstorch.Size([4, 13]) \n",
      "epoch 2/2, step 40/45, inputstorch.Size([4, 13]) \n",
      "epoch 2/2, step 45/45, inputstorch.Size([2, 13]) \n"
     ]
    }
   ],
   "source": [
    "for epoch in range(num_epochs):\n",
    "    for i, (inputs, labels) in enumerate(dataloader):\n",
    "        # forward backward, update\n",
    "        if (i+1)% 5 == 0:\n",
    "            print(f'epoch {epoch+1}/{num_epochs}, step {i+1}/{n_iterations}, inputs{inputs.shape}')"
   ]
  },
  {
   "cell_type": "code",
   "execution_count": null,
   "id": "a0f1bc20-8c87-427b-a276-9ae67b11e775",
   "metadata": {},
   "outputs": [],
   "source": []
  }
 ],
 "metadata": {
  "kernelspec": {
   "display_name": "venv",
   "language": "python",
   "name": "venv"
  },
  "language_info": {
   "codemirror_mode": {
    "name": "ipython",
    "version": 3
   },
   "file_extension": ".py",
   "mimetype": "text/x-python",
   "name": "python",
   "nbconvert_exporter": "python",
   "pygments_lexer": "ipython3",
   "version": "3.10.12"
  }
 },
 "nbformat": 4,
 "nbformat_minor": 5
}
