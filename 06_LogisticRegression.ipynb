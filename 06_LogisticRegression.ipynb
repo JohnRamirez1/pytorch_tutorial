{
 "cells": [
  {
   "cell_type": "markdown",
   "id": "ebdccdb0-7056-4277-b318-851acfa7be68",
   "metadata": {},
   "source": [
    "# Logistic Regresion with Pytorch"
   ]
  },
  {
   "cell_type": "markdown",
   "id": "defc9fc7-981b-4173-9707-7ef3f4fe3817",
   "metadata": {},
   "source": [
    "**Steps**\n",
    "1. Design model (input, output size, forward pass)\n",
    "2. Construct loss and optimizer\n",
    "3. Training loop\n",
    "   - Forward pass: compute predictions\n",
    "   - backward pass: gradients\n",
    "   - update weights "
   ]
  },
  {
   "cell_type": "code",
   "execution_count": 1,
   "id": "6973425e-2481-492c-9eab-98cff82b99e7",
   "metadata": {},
   "outputs": [],
   "source": [
    "import torch\n",
    "import torch.nn as nn\n",
    "import numpy as np\n",
    "from sklearn import datasets\n",
    "from sklearn.preprocessing import StandardScaler\n",
    "from sklearn.model_selection import train_test_split\n",
    "import matplotlib.pyplot as plt"
   ]
  },
  {
   "cell_type": "markdown",
   "id": "95cc51b1-b1db-4f62-9c76-e8b4abf00fd3",
   "metadata": {},
   "source": [
    "## Data Preparing"
   ]
  },
  {
   "cell_type": "code",
   "execution_count": 2,
   "id": "fc7f3dd9-7aa3-4de1-8164-f0879aff52ad",
   "metadata": {},
   "outputs": [],
   "source": [
    "bc = datasets.load_breast_cancer()\n",
    "X, y = bc.data, bc.target"
   ]
  },
  {
   "cell_type": "code",
   "execution_count": 3,
   "id": "10c63822-8928-4536-9854-74499fae9383",
   "metadata": {},
   "outputs": [
    {
     "name": "stdout",
     "output_type": "stream",
     "text": [
      "569 30\n"
     ]
    }
   ],
   "source": [
    "n_samples, n_features = X.shape\n",
    "print(n_samples, n_features)"
   ]
  },
  {
   "cell_type": "code",
   "execution_count": 4,
   "id": "38954449-96a1-4132-8f7e-900e5ca4705b",
   "metadata": {},
   "outputs": [],
   "source": [
    "X_train, X_test, y_train, y_test = train_test_split(X,y, test_size=0.2,stratify=y ,random_state=84)"
   ]
  },
  {
   "cell_type": "code",
   "execution_count": 5,
   "id": "ff6e87bb-7d89-4722-a7d2-91a95e29220c",
   "metadata": {},
   "outputs": [],
   "source": [
    "#scale features\n",
    "sc = StandardScaler()\n",
    "X_train = sc.fit_transform(X_train)\n",
    "X_test = sc.transform(X_test)"
   ]
  },
  {
   "cell_type": "code",
   "execution_count": 6,
   "id": "c737d22f-253d-47ad-8a61-b0e92bff8845",
   "metadata": {},
   "outputs": [],
   "source": [
    "X_train = torch.from_numpy(X_train.astype(np.float32))\n",
    "X_test = torch.from_numpy(X_test.astype(np.float32))\n",
    "y_train = torch.from_numpy(y_train.astype(np.float32))\n",
    "y_test = torch.from_numpy(y_test.astype(np.float32))"
   ]
  },
  {
   "cell_type": "code",
   "execution_count": 7,
   "id": "bb77477c-d0a7-4ddb-b7ca-6161a6d53cb6",
   "metadata": {},
   "outputs": [],
   "source": [
    "y_train = y_train.view(y_train.shape[0], 1)\n",
    "y_test = y_test.view(y_test.shape[0], 1)"
   ]
  },
  {
   "cell_type": "markdown",
   "id": "7e7c79f6-dc65-4125-a88d-8b9392f7d14d",
   "metadata": {},
   "source": [
    "## 2. Model"
   ]
  },
  {
   "cell_type": "code",
   "execution_count": 8,
   "id": "e114fc16-3e72-4b30-a7ed-3865c02a4c3f",
   "metadata": {},
   "outputs": [],
   "source": [
    "# wx=b, sigmoid at the end\n",
    "input_size = n_features\n",
    "output_size = 1\n",
    "class LogisticRegression(nn.Module):\n",
    "\n",
    "    def __init__(self, n_input_features):\n",
    "        super(LogisticRegression, self).__init__()\n",
    "        self.linear = nn.Linear(n_input_features, 1)\n",
    "\n",
    "    def forward(self, x):\n",
    "        y_predicted = torch.sigmoid(self.linear(x))\n",
    "        return y_predicted\n",
    "\n",
    "model = LogisticRegression(n_features)"
   ]
  },
  {
   "cell_type": "markdown",
   "id": "86a0fd08-c440-4bd3-8d91-d2734f3b81fd",
   "metadata": {},
   "source": [
    "## 3. loss and optimizer"
   ]
  },
  {
   "cell_type": "code",
   "execution_count": 9,
   "id": "77948284-1827-40dd-a740-c83bf690a538",
   "metadata": {},
   "outputs": [],
   "source": [
    "learning_rate = 0.01\n",
    "criterion = nn.BCELoss()\n",
    "optimizer = torch.optim.SGD(model.parameters(), lr=learning_rate)"
   ]
  },
  {
   "cell_type": "markdown",
   "id": "4f71cd3e-26a3-4da4-8c3f-d0a094fac9dc",
   "metadata": {},
   "source": [
    "## 4. training loop"
   ]
  },
  {
   "cell_type": "code",
   "execution_count": 10,
   "id": "6c2466c3-2f4d-4903-a634-47264da89c2b",
   "metadata": {},
   "outputs": [
    {
     "name": "stdout",
     "output_type": "stream",
     "text": [
      "epoch: 10, loss: 0.6180\n",
      "epoch: 20, loss: 0.4887\n",
      "epoch: 30, loss: 0.4121\n",
      "epoch: 40, loss: 0.3631\n",
      "epoch: 50, loss: 0.3289\n",
      "epoch: 60, loss: 0.3035\n",
      "epoch: 70, loss: 0.2837\n",
      "epoch: 80, loss: 0.2677\n",
      "epoch: 90, loss: 0.2544\n",
      "epoch: 100, loss: 0.2431\n",
      "accuracy = 0.9649\n"
     ]
    }
   ],
   "source": [
    "num_epochs = 100\n",
    "for epoch in range(num_epochs):\n",
    "    # forward pass and loss\n",
    "    y_predicted = model(X_train)\n",
    "    loss = criterion(y_predicted, y_train)\n",
    "    \n",
    "    # backward pass\n",
    "    loss.backward()\n",
    "\n",
    "    # update weights\n",
    "    optimizer.step()\n",
    "\n",
    "    # empty gradients\n",
    "    optimizer.zero_grad()\n",
    "\n",
    "    if (epoch +1) % 10 ==0:\n",
    "        print(f'epoch: {epoch+1}, loss: {loss.item():.4f}')\n",
    "\n",
    "with torch.no_grad():\n",
    "    y_predicted = model(X_test)\n",
    "    y_predicted_cls = y_predicted.round()\n",
    "    acc = y_predicted_cls.eq(y_test).sum()/float(y_test.shape[0])\n",
    "    print(f'accuracy = {acc:.4f}')"
   ]
  },
  {
   "cell_type": "code",
   "execution_count": null,
   "id": "da53fc6b-f67d-451f-9b55-90fed9882043",
   "metadata": {},
   "outputs": [],
   "source": []
  }
 ],
 "metadata": {
  "kernelspec": {
   "display_name": "venv",
   "language": "python",
   "name": "venv"
  },
  "language_info": {
   "codemirror_mode": {
    "name": "ipython",
    "version": 3
   },
   "file_extension": ".py",
   "mimetype": "text/x-python",
   "name": "python",
   "nbconvert_exporter": "python",
   "pygments_lexer": "ipython3",
   "version": "3.10.12"
  }
 },
 "nbformat": 4,
 "nbformat_minor": 5
}
