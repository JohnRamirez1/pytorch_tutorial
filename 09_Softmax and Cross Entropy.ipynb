{
 "cells": [
  {
   "cell_type": "code",
   "execution_count": 2,
   "id": "9870d1ca-e205-4503-b667-008b270ad9b8",
   "metadata": {},
   "outputs": [],
   "source": [
    "import torch\n",
    "import torch.nn as nn\n",
    "import numpy as np"
   ]
  },
  {
   "cell_type": "markdown",
   "id": "e2cba738-0358-45d6-9588-0755e4cc40af",
   "metadata": {},
   "source": [
    "## Softmax"
   ]
  },
  {
   "cell_type": "code",
   "execution_count": 3,
   "id": "068d5eb3-7e8c-4430-9e48-876307337bab",
   "metadata": {},
   "outputs": [],
   "source": [
    "def softmax(x):\n",
    "    # e**y/sum(e**y)\n",
    "    return np.exp(x) / np.sum(np.exp(x), axis=0)"
   ]
  },
  {
   "cell_type": "code",
   "execution_count": 4,
   "id": "81e47212-b549-4122-b4d2-73b64dd3169c",
   "metadata": {},
   "outputs": [
    {
     "name": "stdout",
     "output_type": "stream",
     "text": [
      "softmax numpy: [0.65900114 0.24243297 0.09856589]\n"
     ]
    }
   ],
   "source": [
    "x = np.array([2.0, 1.0, 0.1])\n",
    "outputs = softmax(x)\n",
    "print('softmax numpy:', outputs)"
   ]
  },
  {
   "cell_type": "markdown",
   "id": "a4edd28e-2259-4349-a835-12c5b7a6acd5",
   "metadata": {},
   "source": [
    "### Softmax with torch"
   ]
  },
  {
   "cell_type": "code",
   "execution_count": 5,
   "id": "b0451e43-9c21-4445-96b6-b89aee676bd1",
   "metadata": {},
   "outputs": [
    {
     "name": "stdout",
     "output_type": "stream",
     "text": [
      "tensor([0.6590, 0.2424, 0.0986])\n"
     ]
    }
   ],
   "source": [
    "x = torch.tensor([2.0, 1.0, 0.1])\n",
    "outputs = torch.softmax(x, dim=0)\n",
    "print(outputs)"
   ]
  },
  {
   "cell_type": "markdown",
   "id": "c9b2effd-ea42-4a75-b042-fbba30f7750b",
   "metadata": {},
   "source": [
    "## Cross Entropy Function"
   ]
  },
  {
   "cell_type": "code",
   "execution_count": 6,
   "id": "cd921c24-94b6-4948-a273-f71857a69407",
   "metadata": {},
   "outputs": [],
   "source": [
    "def cross_entropy(actual, predicted):\n",
    "    loss = -np.sum(actual* np.log(predicted))\n",
    "    return loss # float(predicted.shape[0])"
   ]
  },
  {
   "cell_type": "code",
   "execution_count": 7,
   "id": "500d399a-8d77-4aba-a180-695d82f2c255",
   "metadata": {},
   "outputs": [],
   "source": [
    "Y = np.array([1,0,0])\n",
    "Y_pred_good = np.array([0.7, 0.2, 0.1])\n",
    "Y_pred_bad = np.array([0.1, 0.3, 0.6])"
   ]
  },
  {
   "cell_type": "code",
   "execution_count": 9,
   "id": "154e4d04-09fa-4214-b5f7-9318e9847c2b",
   "metadata": {},
   "outputs": [
    {
     "name": "stdout",
     "output_type": "stream",
     "text": [
      "Loss1 numpy: 0.3567\n",
      "Loss2 numpy: 2.3026\n"
     ]
    }
   ],
   "source": [
    "# The lower cross_entropy the better prediction\n",
    "l1= cross_entropy(Y, Y_pred_good)\n",
    "l2= cross_entropy(Y, Y_pred_bad)\n",
    "print(f'Loss1 numpy: {l1:.4f}')\n",
    "print(f'Loss2 numpy: {l2:.4f}')"
   ]
  },
  {
   "cell_type": "markdown",
   "id": "111a2069-a6fa-4678-947c-d08a36526b4f",
   "metadata": {},
   "source": [
    "## Cross Entropy with torch.nn"
   ]
  },
  {
   "cell_type": "markdown",
   "id": "d88d39fd-699a-4e9d-86d1-38db87add56c",
   "metadata": {},
   "source": [
    "- DO NOT use Softmax in last layer: nn.CrossEntropyLoss has implicit Softmax (nn.LogSoftmax + nn.NLLLoss \"negative log likelihood loss\")\n",
    "-  Y has class labels, no one-hot\n",
    "-  Y_pred has raw scores(logits), no softmax"
   ]
  },
  {
   "cell_type": "markdown",
   "id": "8c65733e-51e4-489d-9cb4-bcb65ad91c23",
   "metadata": {},
   "source": [
    "### Example for 1 class"
   ]
  },
  {
   "cell_type": "code",
   "execution_count": 37,
   "id": "68b8c37f-89ea-40b9-a8ad-33e752d571a1",
   "metadata": {},
   "outputs": [],
   "source": [
    "loss = nn.CrossEntropyLoss()"
   ]
  },
  {
   "cell_type": "code",
   "execution_count": 38,
   "id": "2e0779cc-d4fb-4f2f-b5c7-75329ed64aff",
   "metadata": {},
   "outputs": [],
   "source": [
    "Y = torch.tensor([0])\n",
    "# nsamples x n classes = 1x3\n",
    "Y_pred_good = torch.tensor([[2.0, 1.0, 0.1]])\n",
    "Y_pred_bad = torch.tensor([[0.5, 2.0, 0.3]])"
   ]
  },
  {
   "cell_type": "code",
   "execution_count": 39,
   "id": "596a3874-87ea-47bd-b22b-3a7371426742",
   "metadata": {},
   "outputs": [
    {
     "name": "stdout",
     "output_type": "stream",
     "text": [
      "Loss1 numpy: 0.4170\n",
      "Loss2 numpy: 1.8406\n"
     ]
    }
   ],
   "source": [
    "l1 = loss(Y_pred_good, Y)\n",
    "l2 = loss(Y_pred_bad, Y)\n",
    "print(f'Loss1 numpy: {l1:.4f}')\n",
    "print(f'Loss2 numpy: {l2:.4f}')"
   ]
  },
  {
   "cell_type": "code",
   "execution_count": 40,
   "id": "0004e0bd-2e53-4daa-a421-bdc075c82541",
   "metadata": {},
   "outputs": [
    {
     "name": "stdout",
     "output_type": "stream",
     "text": [
      "0.4170299470424652\n",
      "1.840616226196289\n"
     ]
    }
   ],
   "source": [
    "print(l1.item())\n",
    "print(l2.item())"
   ]
  },
  {
   "cell_type": "code",
   "execution_count": 41,
   "id": "b06b0225-4220-4e3f-b300-4e11fbc0006b",
   "metadata": {},
   "outputs": [
    {
     "name": "stdout",
     "output_type": "stream",
     "text": [
      "tensor([0])\n",
      "tensor([1])\n"
     ]
    }
   ],
   "source": [
    "_, predictions1 = torch.max(Y_pred_good, 1)\n",
    "_, predictions2 = torch.max(Y_pred_bad, 1)\n",
    "print(predictions1)\n",
    "print(predictions2)"
   ]
  },
  {
   "cell_type": "markdown",
   "id": "6a7b9dee-5481-49f6-8337-7b4683f64982",
   "metadata": {},
   "source": [
    "### Example for 3 classes"
   ]
  },
  {
   "cell_type": "code",
   "execution_count": 42,
   "id": "c3e5b4c5-b69d-4792-9ae6-889df5b523b3",
   "metadata": {},
   "outputs": [],
   "source": [
    "# 3 samples\n",
    "Y = torch.tensor([2,0,1])\n",
    "# nsamples x n classes = 3x3\n",
    "Y_pred_good = torch.tensor([[0.1, 1.0, 2.1],\n",
    "                            [2.0, 1.0, 0.1],\n",
    "                            [0.1, 3.0, 0.1]\n",
    "                           ])\n",
    "Y_pred_bad = torch.tensor([[2.1, 1.0, 0.1],\n",
    "                            [0.1, 1.0, 2.1],\n",
    "                            [0.1, 3.0, 0.1]\n",
    "                          ])"
   ]
  },
  {
   "cell_type": "code",
   "execution_count": 43,
   "id": "ac2c396e-2d99-457d-99f3-f970857a51c5",
   "metadata": {},
   "outputs": [
    {
     "name": "stdout",
     "output_type": "stream",
     "text": [
      "Loss1 numpy: 0.3018\n",
      "Loss2 numpy: 1.6242\n"
     ]
    }
   ],
   "source": [
    "l1 = loss(Y_pred_good, Y)\n",
    "l2 = loss(Y_pred_bad, Y)\n",
    "print(f'Loss1 numpy: {l1:.4f}')\n",
    "print(f'Loss2 numpy: {l2:.4f}')"
   ]
  },
  {
   "cell_type": "code",
   "execution_count": 44,
   "id": "1b09ef42-b02e-4215-b6fc-c55db78c69a5",
   "metadata": {},
   "outputs": [
    {
     "name": "stdout",
     "output_type": "stream",
     "text": [
      "0.3018244206905365\n",
      "1.6241613626480103\n"
     ]
    }
   ],
   "source": [
    "print(l1.item())\n",
    "print(l2.item())"
   ]
  },
  {
   "cell_type": "code",
   "execution_count": 45,
   "id": "d7b3a7c4-5d0b-493a-acd7-a46acafbb6ec",
   "metadata": {},
   "outputs": [
    {
     "name": "stdout",
     "output_type": "stream",
     "text": [
      "tensor([2, 0, 1])\n",
      "tensor([0, 2, 1])\n"
     ]
    }
   ],
   "source": [
    "_, predictions1 = torch.max(Y_pred_good, 1)\n",
    "_, predictions2 = torch.max(Y_pred_bad, 1)\n",
    "print(predictions1)\n",
    "print(predictions2)"
   ]
  },
  {
   "cell_type": "markdown",
   "id": "a25ec10f-4231-461f-ac76-413fc3be1fd3",
   "metadata": {},
   "source": [
    "## Binary Neural Net With SoftMax"
   ]
  },
  {
   "cell_type": "code",
   "execution_count": 52,
   "id": "dd478d4f-965e-40ce-b89e-254348f9cfdb",
   "metadata": {},
   "outputs": [],
   "source": [
    "class NeuralNet1(nn.Module):\n",
    "    def __init__(self, input_size, hidden_size):\n",
    "        super(NeuralNet1, self).__init__()\n",
    "        self.linear1 = nn.Linear(input_size, hidden_size)\n",
    "        self.relu = nn.ReLU()\n",
    "        self.linear2 = nn.Linear(hidden_size, 1)\n",
    "\n",
    "    def forward(self, x):\n",
    "        out = self.linear1(x)\n",
    "        out = self.relu(out)\n",
    "        out = self.linear2(out)\n",
    "        # sigmoid at the end\n",
    "        y_pred = torch.sigmoid(out)\n",
    "        return y_pred"
   ]
  },
  {
   "cell_type": "code",
   "execution_count": 53,
   "id": "a85c9a86-8ab0-473b-a172-f65b618ecc67",
   "metadata": {},
   "outputs": [
    {
     "data": {
      "text/plain": [
       "NeuralNet1(\n",
       "  (linear1): Linear(in_features=784, out_features=5, bias=True)\n",
       "  (relu): ReLU()\n",
       "  (linear2): Linear(in_features=5, out_features=1, bias=True)\n",
       ")"
      ]
     },
     "execution_count": 53,
     "metadata": {},
     "output_type": "execute_result"
    }
   ],
   "source": [
    "model = NeuralNet1(input_size=28*28, hidden_size=5)\n",
    "model"
   ]
  },
  {
   "cell_type": "code",
   "execution_count": null,
   "id": "e2860cb3-74fe-4371-8b57-25d5bd0f1f5d",
   "metadata": {},
   "outputs": [],
   "source": [
    "criterion = nn.BCELoss() #(applies Softmax)"
   ]
  },
  {
   "cell_type": "markdown",
   "id": "e8acb50f-1f00-4de4-8d85-1fce2fdf003d",
   "metadata": {},
   "source": [
    "## Multiclass Neural Net With Softmax"
   ]
  },
  {
   "cell_type": "code",
   "execution_count": 57,
   "id": "3dffd04a-2d4a-40c3-9c9e-316b8b79f3e3",
   "metadata": {},
   "outputs": [],
   "source": [
    "class NeuralNet2(nn.Module):\n",
    "    def __init__(self, input_size, hidden_size, num_classes):\n",
    "        super(NeuralNet2, self).__init__()\n",
    "        self.linear1 = nn.Linear(input_size, hidden_size)\n",
    "        self.relu = nn.ReLU()\n",
    "        self.linear2 = nn.Linear(hidden_size, num_classes)\n",
    "\n",
    "    def forward(self, x):\n",
    "        out = self.linear1(x)\n",
    "        out = self.relu(out)\n",
    "        out = self.linear2(out)\n",
    "        # no softmax at the end\n",
    "        return out"
   ]
  },
  {
   "cell_type": "code",
   "execution_count": 58,
   "id": "d1d217fa-4db3-44e1-8a3c-4ff787c81b58",
   "metadata": {},
   "outputs": [
    {
     "data": {
      "text/plain": [
       "NeuralNet2(\n",
       "  (linear1): Linear(in_features=784, out_features=5, bias=True)\n",
       "  (relu): ReLU()\n",
       "  (linear2): Linear(in_features=5, out_features=3, bias=True)\n",
       ")"
      ]
     },
     "execution_count": 58,
     "metadata": {},
     "output_type": "execute_result"
    }
   ],
   "source": [
    "model = NeuralNet2(input_size=28*28, hidden_size=5, num_classes=3)\n",
    "model"
   ]
  },
  {
   "cell_type": "code",
   "execution_count": 59,
   "id": "085c68c6-1bf3-4273-92b0-b656a3de2e9f",
   "metadata": {},
   "outputs": [],
   "source": [
    "criterion = nn.CrossEntropyLoss() #(applies Softmax)"
   ]
  },
  {
   "cell_type": "code",
   "execution_count": null,
   "id": "06ccad28-7aa3-4f49-9179-72f5ed10002e",
   "metadata": {},
   "outputs": [],
   "source": []
  }
 ],
 "metadata": {
  "kernelspec": {
   "display_name": "venv",
   "language": "python",
   "name": "venv"
  },
  "language_info": {
   "codemirror_mode": {
    "name": "ipython",
    "version": 3
   },
   "file_extension": ".py",
   "mimetype": "text/x-python",
   "name": "python",
   "nbconvert_exporter": "python",
   "pygments_lexer": "ipython3",
   "version": "3.10.12"
  }
 },
 "nbformat": 4,
 "nbformat_minor": 5
}
