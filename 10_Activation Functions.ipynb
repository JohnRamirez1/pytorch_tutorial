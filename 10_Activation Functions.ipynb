{
 "cells": [
  {
   "cell_type": "markdown",
   "id": "8eb87bad-283b-42af-8e43-3401317a68be",
   "metadata": {},
   "source": [
    "## Activation Functions"
   ]
  },
  {
   "cell_type": "markdown",
   "id": "9d8c0217-3bb3-4567-9844-37894fa72bf6",
   "metadata": {},
   "source": [
    "- Activation Functions: Apply a non-linear transformation and decide whether a neuron should be activated or no"
   ]
  },
  {
   "cell_type": "markdown",
   "id": "cd805ed0-0747-490f-aaee-01215410d05e",
   "metadata": {},
   "source": [
    "- Step function: {1 if x>= theta; o otherwise} [0-1]\n",
    "- sigmoid: {1/(1+e**-x)} [0-1]\n",
    "- TanH: {(2/(1+e**-2x))-1} [-1 to 1]\n",
    "- ReLU: Max(0, x) [0,x] *Most popular choice\n",
    "- Leaky RELU: x if x>=0; a*x otherwise. a being a small value\n",
    "- Softmax: S(yi)= E**yi/Sum(e**yi) * for multiclass problems\n",
    "* if you don't know what to use, just use a ReLU for hidden layers"
   ]
  },
  {
   "cell_type": "markdown",
   "id": "08d8b1b7-2020-473d-961c-fc6d8ca2bfb6",
   "metadata": {},
   "source": [
    "<img src=\"images/activation_function.png\" width=\"500\">"
   ]
  },
  {
   "cell_type": "code",
   "execution_count": 8,
   "id": "093cfa1e-d21c-4dd8-942f-c02bf1bdc73a",
   "metadata": {},
   "outputs": [],
   "source": [
    "import torch\n",
    "import torch.nn as nn\n",
    "import torch.nn.functional as F"
   ]
  },
  {
   "cell_type": "code",
   "execution_count": 9,
   "id": "153e743f-666e-4cf1-aa16-569050d2d359",
   "metadata": {},
   "outputs": [],
   "source": [
    "class NeuralNet1(nn.Module):\n",
    "    def __init__(self, input_size, hidden_size):\n",
    "        super(NeuralNet1, self).__init__()\n",
    "        self.linear1 = nn.Linear(input_size, hidden_size)\n",
    "        self.relu = nn.ReLU()\n",
    "        self.linear2 = nn.Linear(hidden_size, 1)\n",
    "        self.sigmoid = nn.Sigmoid()\n",
    "\n",
    "    def forward(self, x):\n",
    "        out = self.linear1(x)\n",
    "        out = self.relu(out)\n",
    "        out = self.linear2(out)\n",
    "        out = torch.sigmoid(out)\n",
    "        return out"
   ]
  },
  {
   "cell_type": "code",
   "execution_count": 10,
   "id": "c244b731-c717-48a7-ae20-67c1629f4f41",
   "metadata": {},
   "outputs": [
    {
     "data": {
      "text/plain": [
       "NeuralNet1(\n",
       "  (linear1): Linear(in_features=784, out_features=5, bias=True)\n",
       "  (relu): ReLU()\n",
       "  (linear2): Linear(in_features=5, out_features=1, bias=True)\n",
       "  (sigmoid): Sigmoid()\n",
       ")"
      ]
     },
     "execution_count": 10,
     "metadata": {},
     "output_type": "execute_result"
    }
   ],
   "source": [
    "model1 = NeuralNet1(input_size=28*28, hidden_size=5)\n",
    "model1"
   ]
  },
  {
   "cell_type": "code",
   "execution_count": 16,
   "id": "75dbba5b-ad4b-4b45-9a73-b0cf09aece45",
   "metadata": {},
   "outputs": [],
   "source": [
    "class NeuralNet2(nn.Module):\n",
    "    def __init__(self, input_size, hidden_size):\n",
    "        super(NeuralNet2, self).__init__()\n",
    "        self.linear1 = nn.Linear(input_size, hidden_size)\n",
    "        self.linear2 = nn.Linear(hidden_size, 1)\n",
    "        \n",
    "\n",
    "    def forward(self, x):\n",
    "        # out = torch.relu(self.linear1(x)) #torch.relu is equivalent to F.relu\n",
    "        out = F.leaky_relu(self.linear1(x)) # F.leaky_relu is only available with F\n",
    "        out = torch.sigmoid(self.relu(out))\n",
    "        return out"
   ]
  },
  {
   "cell_type": "code",
   "execution_count": 17,
   "id": "a20f0476-ec10-4839-aee0-c703a7c81849",
   "metadata": {},
   "outputs": [
    {
     "data": {
      "text/plain": [
       "NeuralNet2(\n",
       "  (linear1): Linear(in_features=784, out_features=5, bias=True)\n",
       "  (linear2): Linear(in_features=5, out_features=1, bias=True)\n",
       ")"
      ]
     },
     "execution_count": 17,
     "metadata": {},
     "output_type": "execute_result"
    }
   ],
   "source": [
    "model2 = NeuralNet2(input_size=28*28, hidden_size=5)\n",
    "model2"
   ]
  },
  {
   "cell_type": "code",
   "execution_count": null,
   "id": "896679bd-79c0-40b3-8d31-1f205a3d5360",
   "metadata": {},
   "outputs": [],
   "source": []
  }
 ],
 "metadata": {
  "kernelspec": {
   "display_name": "venv",
   "language": "python",
   "name": "venv"
  },
  "language_info": {
   "codemirror_mode": {
    "name": "ipython",
    "version": 3
   },
   "file_extension": ".py",
   "mimetype": "text/x-python",
   "name": "python",
   "nbconvert_exporter": "python",
   "pygments_lexer": "ipython3",
   "version": "3.10.12"
  }
 },
 "nbformat": 4,
 "nbformat_minor": 5
}
