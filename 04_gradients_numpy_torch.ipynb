{
 "cells": [
  {
   "cell_type": "markdown",
   "id": "3a409058-df83-4d22-96e2-145b2822204d",
   "metadata": {},
   "source": [
    "# Gradient Descendent with Autograd and Backpropagation"
   ]
  },
  {
   "cell_type": "markdown",
   "id": "c1f0f09a-2e59-49e9-8879-e90e4433835c",
   "metadata": {
    "jp-MarkdownHeadingCollapsed": true
   },
   "source": [
    "## Training Loop with Numpy"
   ]
  },
  {
   "cell_type": "code",
   "execution_count": 1,
   "id": "86d615dc-db69-45e3-9099-cb526d6ddd72",
   "metadata": {},
   "outputs": [],
   "source": [
    "import numpy as np"
   ]
  },
  {
   "cell_type": "code",
   "execution_count": 2,
   "id": "1cd66a8d-5dce-461d-9e84-93822d86082f",
   "metadata": {},
   "outputs": [],
   "source": [
    "#f= w * x"
   ]
  },
  {
   "cell_type": "code",
   "execution_count": 3,
   "id": "002feb95-9ebc-44dc-bfc8-c6d6b9a365fc",
   "metadata": {},
   "outputs": [],
   "source": [
    "#f= 2 * x"
   ]
  },
  {
   "cell_type": "code",
   "execution_count": 4,
   "id": "0569b20e-db1b-4b5d-87d1-72acb5ffbb1e",
   "metadata": {},
   "outputs": [],
   "source": [
    "X = np.array([1,2,3,4], dtype=np.float32)\n",
    "Y = np.array([2,4,6,8], dtype=np.float32)"
   ]
  },
  {
   "cell_type": "code",
   "execution_count": 5,
   "id": "9b0d4ae4-1b5e-44d6-9ff3-1d2d4b558c0c",
   "metadata": {},
   "outputs": [],
   "source": [
    "w=0.0"
   ]
  },
  {
   "cell_type": "markdown",
   "id": "1c542422-039e-4b22-bffc-4f8b768320ae",
   "metadata": {},
   "source": [
    "### Model Prediction"
   ]
  },
  {
   "cell_type": "code",
   "execution_count": 6,
   "id": "211d11e4-7c97-47a8-a6e5-6173e6fea021",
   "metadata": {},
   "outputs": [],
   "source": [
    "def forward(x):\n",
    "    return w * x"
   ]
  },
  {
   "cell_type": "markdown",
   "id": "fde7cb09-8c4c-4ac0-bdd9-738463980b55",
   "metadata": {},
   "source": [
    "### Loss"
   ]
  },
  {
   "cell_type": "code",
   "execution_count": 7,
   "id": "842a90aa-0586-4368-bea1-679a6b98e9b5",
   "metadata": {},
   "outputs": [],
   "source": [
    "def loss(y, y_predicted):\n",
    "    return((y_predicted-y)**2).mean()"
   ]
  },
  {
   "cell_type": "markdown",
   "id": "18f09681-6d70-4222-9e11-80699f4f8e64",
   "metadata": {},
   "source": [
    "### Gradient"
   ]
  },
  {
   "cell_type": "code",
   "execution_count": 8,
   "id": "c1b8ce40-1a8b-4f4b-b112-66c4916bdcb8",
   "metadata": {},
   "outputs": [],
   "source": [
    "def gradient(x,y,y_predicted):\n",
    "    \"\"\"\n",
    "    gradient\n",
    "    MSE = 1/N ((w*x)-y)**2\n",
    "    dJ/dw = 1/N 2x ((w*x)-y)\n",
    "    \"\"\"\n",
    "    return np.dot(2*x, y_predicted-y).mean() #1/N 2x ((w*x)-y)"
   ]
  },
  {
   "cell_type": "code",
   "execution_count": 9,
   "id": "e5430896-2a26-42f3-b73b-807eac3c43a7",
   "metadata": {},
   "outputs": [
    {
     "name": "stdout",
     "output_type": "stream",
     "text": [
      "prediction before training: f(5)0.000\n"
     ]
    }
   ],
   "source": [
    "# Forward Pass\n",
    "print(f\"prediction before training: f(5){forward(5):.3f}\")"
   ]
  },
  {
   "cell_type": "markdown",
   "id": "4a1852a8-afad-483b-b4dd-b2a8d9fa5f55",
   "metadata": {},
   "source": [
    "### Training"
   ]
  },
  {
   "cell_type": "code",
   "execution_count": 10,
   "id": "9f12080c-47d2-4325-a06e-749e6bf09732",
   "metadata": {},
   "outputs": [
    {
     "name": "stdout",
     "output_type": "stream",
     "text": [
      "epoch 1: w = 1.200, loss = 30.00000000 \n",
      "epoch 2: w = 1.680, loss = 4.79999924 \n",
      "epoch 3: w = 1.872, loss = 0.76800019 \n",
      "epoch 4: w = 1.949, loss = 0.12288000 \n",
      "epoch 5: w = 1.980, loss = 0.01966083 \n",
      "epoch 6: w = 1.992, loss = 0.00314574 \n",
      "epoch 7: w = 1.997, loss = 0.00050331 \n",
      "epoch 8: w = 1.999, loss = 0.00008053 \n",
      "epoch 9: w = 1.999, loss = 0.00001288 \n",
      "epoch 10: w = 2.000, loss = 0.00000206 \n",
      "prediction after training: f(5)9.999\n"
     ]
    }
   ],
   "source": [
    "learning_rate = 0.01\n",
    "n_iters = 10\n",
    "for epoch in range(n_iters):\n",
    "    # prediction = forward pass\n",
    "    y_pred =forward(X)\n",
    "\n",
    "    # loss\n",
    "    l = loss(Y, y_pred)\n",
    "\n",
    "    # gradients\n",
    "    dw = gradient(X, Y, y_pred)\n",
    "    #update weights into negative direction of gradients\n",
    "    w -= learning_rate * dw\n",
    "\n",
    "    if epoch % 1 ==0:\n",
    "        print(f'epoch {epoch+1}: w = {w:.3f}, loss = {l:.8f} ')\n",
    "\n",
    "print(f\"prediction after training: f(5){forward(5):.3f}\")"
   ]
  },
  {
   "cell_type": "markdown",
   "id": "e4693e33-38ab-47d7-a564-0070a0aa36b9",
   "metadata": {
    "jp-MarkdownHeadingCollapsed": true
   },
   "source": [
    "## Training Loop with pytorch"
   ]
  },
  {
   "cell_type": "code",
   "execution_count": 11,
   "id": "5b15559b-44e1-4af6-aa25-51851745dd8a",
   "metadata": {},
   "outputs": [],
   "source": [
    "import torch"
   ]
  },
  {
   "cell_type": "code",
   "execution_count": 12,
   "id": "448e29b4-7565-4099-adb0-ecad00d3c1f3",
   "metadata": {},
   "outputs": [],
   "source": [
    "X = torch.tensor([1,2,3,4], dtype=torch.float32)\n",
    "Y = torch.tensor([2,4,6,8], dtype=torch.float32)"
   ]
  },
  {
   "cell_type": "code",
   "execution_count": 13,
   "id": "865e4577-1fe4-46e1-aff7-46e594460789",
   "metadata": {},
   "outputs": [],
   "source": [
    "w = torch.tensor(0.0, dtype=torch.float32, requires_grad=True)"
   ]
  },
  {
   "cell_type": "code",
   "execution_count": 14,
   "id": "ac7d6b0f-27c3-46b6-9325-56c96a3b40d4",
   "metadata": {},
   "outputs": [],
   "source": [
    "def forward(x):\n",
    "    return w * x"
   ]
  },
  {
   "cell_type": "code",
   "execution_count": 15,
   "id": "5b345d91-a8ab-41ee-8496-8c76ba627768",
   "metadata": {},
   "outputs": [],
   "source": [
    "def loss(y, y_predicted):\n",
    "    return((y_predicted-y)**2).mean()"
   ]
  },
  {
   "cell_type": "code",
   "execution_count": 16,
   "id": "d5651275-4d20-4657-b12e-fc499226e39a",
   "metadata": {},
   "outputs": [
    {
     "name": "stdout",
     "output_type": "stream",
     "text": [
      "epoch 1: w = 0.300, loss = 30.00000000 \n",
      "epoch 11: w = 1.665, loss = 1.16278565 \n",
      "epoch 21: w = 1.934, loss = 0.04506890 \n",
      "epoch 31: w = 1.987, loss = 0.00174685 \n",
      "epoch 41: w = 1.997, loss = 0.00006770 \n",
      "epoch 51: w = 1.999, loss = 0.00000262 \n",
      "epoch 61: w = 2.000, loss = 0.00000010 \n",
      "epoch 71: w = 2.000, loss = 0.00000000 \n",
      "epoch 81: w = 2.000, loss = 0.00000000 \n",
      "epoch 91: w = 2.000, loss = 0.00000000 \n",
      "prediction after training: f(5)10.000\n"
     ]
    }
   ],
   "source": [
    "learning_rate = 0.01\n",
    "n_iters = 100\n",
    "for epoch in range(n_iters):\n",
    "    # prediction = forward pass\n",
    "    y_pred =forward(X)\n",
    "\n",
    "    # loss\n",
    "    l = loss(Y, y_pred)\n",
    "\n",
    "    # gradients = backward pass\n",
    "    l.backward() # dl/dw gradient of loss respect to w\n",
    "    \n",
    "    \n",
    "    #update weights. Weights calculation should not be part of computational graph\n",
    "    with torch.no_grad():\n",
    "        w -= learning_rate * w.grad\n",
    "\n",
    "    # zero gradients. \n",
    "    # Empty or convert to zero the gradients\n",
    "    # to avoid acumulate w in w.grad every time l.backward() is calculated\n",
    "    w.grad.zero_()\n",
    "    \n",
    "    if epoch % 10 ==0:\n",
    "        print(f'epoch {epoch+1}: w = {w:.3f}, loss = {l:.8f} ')\n",
    "\n",
    "print(f\"prediction after training: f(5){forward(5):.3f}\")"
   ]
  },
  {
   "cell_type": "markdown",
   "id": "2cb0df13-23cd-4ae4-a17c-0bd999b8db61",
   "metadata": {},
   "source": [
    "## Training loop with pytorch and torch.nn"
   ]
  },
  {
   "cell_type": "markdown",
   "id": "baf4c7e6-2dba-4f00-93a6-937beb79dbeb",
   "metadata": {},
   "source": [
    "**Steps**\n",
    "1. Design model (input, output size, forward pass)\n",
    "2. Construct loss and optimizer\n",
    "3. Training loop\n",
    "   - Forward pass: compute predictions\n",
    "   - backward pass: gradients\n",
    "   - update weights "
   ]
  },
  {
   "cell_type": "code",
   "execution_count": 17,
   "id": "97b92a62-179b-41d5-a0a2-ecd092f8d554",
   "metadata": {},
   "outputs": [],
   "source": [
    "import torch\n",
    "import torch.nn as nn"
   ]
  },
  {
   "cell_type": "code",
   "execution_count": 18,
   "id": "03d7b692-390e-42ce-8948-f1d51e98337a",
   "metadata": {},
   "outputs": [],
   "source": [
    "#f= w * x\n",
    "#f= 2 * x\n",
    "X = torch.tensor([[1],[2],[3],[4]], dtype=torch.float32)\n",
    "Y = torch.tensor([[2],[4],[6],[8]], dtype=torch.float32)"
   ]
  },
  {
   "cell_type": "code",
   "execution_count": 19,
   "id": "f7522039-cc87-4423-94bf-87f2588954e4",
   "metadata": {},
   "outputs": [],
   "source": [
    "X_test = torch.tensor([5], dtype=torch.float32)"
   ]
  },
  {
   "cell_type": "code",
   "execution_count": 20,
   "id": "a24e5485-f01c-4b9d-bf62-82adf52faa2d",
   "metadata": {},
   "outputs": [
    {
     "name": "stdout",
     "output_type": "stream",
     "text": [
      "4 1\n"
     ]
    }
   ],
   "source": [
    "n_samples, n_features = X.shape\n",
    "print(n_samples, n_features)"
   ]
  },
  {
   "cell_type": "code",
   "execution_count": 21,
   "id": "ba4f08a9-ea93-4718-bf46-e9ccb06c545a",
   "metadata": {},
   "outputs": [],
   "source": [
    "input_size = n_features\n",
    "output_size = n_features"
   ]
  },
  {
   "cell_type": "code",
   "execution_count": 22,
   "id": "22bafa4f-899e-4e4a-9730-e164e5d8e5bd",
   "metadata": {},
   "outputs": [],
   "source": [
    "# model = nn.Linear(input_size, output_size)\n",
    "# class LinearRegression is the equivalent to model = nn.Linear(input_size, output_size) \n",
    "class LinearRegression(nn.Module):\n",
    "    def __init__(self, input_dim, output_dim):\n",
    "        super(LinearRegression, self).__init__()\n",
    "        #define layers\n",
    "        self.lin = nn.Linear(input_dim, output_dim)\n",
    "    def forward(self, x):\n",
    "        return self.lin(x)\n",
    "model = LinearRegression(input_size, output_size)"
   ]
  },
  {
   "cell_type": "code",
   "execution_count": 23,
   "id": "5a647ddc-33a4-4d57-ad36-380ce4f316ff",
   "metadata": {},
   "outputs": [
    {
     "name": "stdout",
     "output_type": "stream",
     "text": [
      "prediction before training: f(5.0)5.113\n"
     ]
    }
   ],
   "source": [
    "print(f\"prediction before training: f({X_test.item()}){model(X_test).item():.3f}\") #use item to get the float between them"
   ]
  },
  {
   "cell_type": "code",
   "execution_count": 34,
   "id": "9cdf08d0-875f-46fc-930b-ace498e35afc",
   "metadata": {},
   "outputs": [
    {
     "name": "stdout",
     "output_type": "stream",
     "text": [
      "epoch 1: w = 1.989, loss = 0.00016451\n",
      "epoch 11: w = 1.990, loss = 0.00015493\n",
      "epoch 21: w = 1.990, loss = 0.00014591\n",
      "epoch 31: w = 1.990, loss = 0.00013742\n",
      "epoch 41: w = 1.991, loss = 0.00012942\n",
      "epoch 51: w = 1.991, loss = 0.00012189\n",
      "epoch 61: w = 1.991, loss = 0.00011479\n",
      "epoch 71: w = 1.991, loss = 0.00010811\n",
      "epoch 81: w = 1.992, loss = 0.00010182\n",
      "epoch 91: w = 1.992, loss = 0.00009589\n",
      "prediction after training: f(5)9.984\n"
     ]
    }
   ],
   "source": [
    "learning_rate = 0.01\n",
    "n_iters = 100\n",
    "loss = nn.MSELoss()\n",
    "optimizer = torch.optim.SGD(model.parameters(), lr=learning_rate)\n",
    "\n",
    "for epoch in range(n_iters):\n",
    "    # prediction = forward pass\n",
    "    y_pred =model(X)\n",
    "\n",
    "    # loss\n",
    "    l = loss(Y, y_pred)\n",
    "\n",
    "    # gradients = backward pass\n",
    "    l.backward() # dl/dw gradient of loss respect to w\n",
    "    \n",
    "    \n",
    "    #update weights. Weights calculation should not be part of computational graph\n",
    "    optimizer.step()\n",
    "    \n",
    "    # zero gradients. \n",
    "    optimizer.zero_grad()\n",
    "    \n",
    "    if epoch % 10 ==0:\n",
    "        [w, b] = model.parameters()\n",
    "        print(f'epoch {epoch+1}: w = {w[0][0].item():.3f}, loss = {l:.8f}')\n",
    "\n",
    "print(f\"prediction after training: f(5){model(X_test).item():.3f}\")"
   ]
  },
  {
   "cell_type": "code",
   "execution_count": null,
   "id": "f1af7403-c7a7-4e26-a9f0-93481d1fb314",
   "metadata": {},
   "outputs": [],
   "source": []
  }
 ],
 "metadata": {
  "kernelspec": {
   "display_name": "Python 3 (ipykernel)",
   "language": "python",
   "name": "python3"
  },
  "language_info": {
   "codemirror_mode": {
    "name": "ipython",
    "version": 3
   },
   "file_extension": ".py",
   "mimetype": "text/x-python",
   "name": "python",
   "nbconvert_exporter": "python",
   "pygments_lexer": "ipython3",
   "version": "3.10.12"
  }
 },
 "nbformat": 4,
 "nbformat_minor": 5
}
