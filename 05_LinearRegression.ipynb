{
 "cells": [
  {
   "cell_type": "markdown",
   "id": "ebdccdb0-7056-4277-b318-851acfa7be68",
   "metadata": {},
   "source": [
    "# Linear Regresion with Pytorch"
   ]
  },
  {
   "cell_type": "markdown",
   "id": "defc9fc7-981b-4173-9707-7ef3f4fe3817",
   "metadata": {},
   "source": [
    "**Steps**\n",
    "1. Design model (input, output size, forward pass)\n",
    "2. Construct loss and optimizer\n",
    "3. Training loop\n",
    "   - Forward pass: compute predictions\n",
    "   - backward pass: gradients\n",
    "   - update weights "
   ]
  },
  {
   "cell_type": "code",
   "execution_count": 11,
   "id": "6973425e-2481-492c-9eab-98cff82b99e7",
   "metadata": {},
   "outputs": [],
   "source": [
    "import torch\n",
    "import torch.nn as nn\n",
    "import numpy as np\n",
    "from sklearn import datasets\n",
    "import matplotlib.pyplot as plt"
   ]
  },
  {
   "cell_type": "markdown",
   "id": "95cc51b1-b1db-4f62-9c76-e8b4abf00fd3",
   "metadata": {},
   "source": [
    "## Prepare data"
   ]
  },
  {
   "cell_type": "code",
   "execution_count": 12,
   "id": "fc7f3dd9-7aa3-4de1-8164-f0879aff52ad",
   "metadata": {},
   "outputs": [],
   "source": [
    "X_numpy, y_numpy = datasets.make_regression(n_samples=100, n_features=1, noise=20, random_state=1)"
   ]
  },
  {
   "cell_type": "code",
   "execution_count": 13,
   "id": "cb7fbd51-5c75-4b60-9f56-e9848310652f",
   "metadata": {},
   "outputs": [],
   "source": [
    "X = torch.from_numpy(X_numpy.astype(np.float32))\n",
    "y = torch.from_numpy(y_numpy.astype(np.float32))"
   ]
  },
  {
   "cell_type": "code",
   "execution_count": 14,
   "id": "38954449-96a1-4132-8f7e-900e5ca4705b",
   "metadata": {},
   "outputs": [
    {
     "name": "stdout",
     "output_type": "stream",
     "text": [
      "torch.Size([100])\n",
      "torch.Size([100, 1])\n"
     ]
    }
   ],
   "source": [
    "print(y.shape)\n",
    "y = y.view(y.shape[0],1)\n",
    "print(y.shape)"
   ]
  },
  {
   "cell_type": "code",
   "execution_count": 15,
   "id": "10c63822-8928-4536-9854-74499fae9383",
   "metadata": {},
   "outputs": [],
   "source": [
    "n_samples, n_features = X.shape"
   ]
  },
  {
   "cell_type": "markdown",
   "id": "7e7c79f6-dc65-4125-a88d-8b9392f7d14d",
   "metadata": {},
   "source": [
    "## 2. Model"
   ]
  },
  {
   "cell_type": "code",
   "execution_count": 17,
   "id": "e114fc16-3e72-4b30-a7ed-3865c02a4c3f",
   "metadata": {},
   "outputs": [],
   "source": [
    "input_size = n_features\n",
    "output_size = 1\n",
    "model = nn.Linear(input_size, output_size)"
   ]
  },
  {
   "cell_type": "markdown",
   "id": "86a0fd08-c440-4bd3-8d91-d2734f3b81fd",
   "metadata": {},
   "source": [
    "## 3. loss and optimizer"
   ]
  },
  {
   "cell_type": "code",
   "execution_count": 19,
   "id": "77948284-1827-40dd-a740-c83bf690a538",
   "metadata": {},
   "outputs": [],
   "source": [
    "learning_rate = 0.01\n",
    "criterion = nn.MSELoss()\n",
    "optimizer = torch.optim.SGD(model.parameters(), lr=learning_rate)"
   ]
  },
  {
   "cell_type": "markdown",
   "id": "4f71cd3e-26a3-4da4-8c3f-d0a094fac9dc",
   "metadata": {},
   "source": [
    "## 4. training loop"
   ]
  },
  {
   "cell_type": "code",
   "execution_count": 22,
   "id": "6c2466c3-2f4d-4903-a634-47264da89c2b",
   "metadata": {},
   "outputs": [
    {
     "name": "stdout",
     "output_type": "stream",
     "text": [
      "epoch: 10, loss: 4352.8540\n",
      "epoch: 20, loss: 3247.4395\n",
      "epoch: 30, loss: 2447.9004\n",
      "epoch: 40, loss: 1868.9672\n",
      "epoch: 50, loss: 1449.3466\n",
      "epoch: 60, loss: 1144.9128\n",
      "epoch: 70, loss: 923.8561\n",
      "epoch: 80, loss: 763.2131\n",
      "epoch: 90, loss: 646.3871\n",
      "epoch: 100, loss: 561.3694\n"
     ]
    }
   ],
   "source": [
    "num_epochs = 100\n",
    "for epoch in range(num_epochs):\n",
    "    # forward pass and loss\n",
    "    y_predicted = model(X)\n",
    "    loss = criterion(y_predicted, y)\n",
    "    \n",
    "    # backward pass\n",
    "    loss.backward()\n",
    "\n",
    "    # update weights\n",
    "    optimizer.step()\n",
    "\n",
    "    # empty gradients\n",
    "    optimizer.zero_grad()\n",
    "\n",
    "    if (epoch +1) % 10 ==0:\n",
    "        print(f'epoch: {epoch+1}, loss: {loss.item():.4f}')"
   ]
  },
  {
   "cell_type": "code",
   "execution_count": 23,
   "id": "e5eb0fc0-8600-4cbf-b485-26f00e349f7c",
   "metadata": {},
   "outputs": [
    {
     "data": {
      "text/plain": [
       "<function matplotlib.pyplot.show(close=None, block=None)>"
      ]
     },
     "execution_count": 23,
     "metadata": {},
     "output_type": "execute_result"
    },
    {
     "data": {
      "image/png": "[encoded data removed]",
      "text/plain": [
       "<Figure size 640x480 with 1 Axes>"
      ]
     },
     "metadata": {},
     "output_type": "display_data"
    }
   ],
   "source": [
    "# plot\n",
    "predicted = model(X).detach().numpy() # detach to prevent the opearation to being track from computational graph \n",
    "plt.plot(X_numpy, y_numpy, 'ro')\n",
    "plt.plot(X_numpy, predicted, 'b')\n",
    "plt.show"
   ]
  },
  {
   "cell_type": "code",
   "execution_count": null,
   "id": "da53fc6b-f67d-451f-9b55-90fed9882043",
   "metadata": {},
   "outputs": [],
   "source": []
  }
 ],
 "metadata": {
  "kernelspec": {
   "display_name": "venv",
   "language": "python",
   "name": "venv"
  },
  "language_info": {
   "codemirror_mode": {
    "name": "ipython",
    "version": 3
   },
   "file_extension": ".py",
   "mimetype": "text/x-python",
   "name": "python",
   "nbconvert_exporter": "python",
   "pygments_lexer": "ipython3",
   "version": "3.10.12"
  }
 },
 "nbformat": 4,
 "nbformat_minor": 5
}
